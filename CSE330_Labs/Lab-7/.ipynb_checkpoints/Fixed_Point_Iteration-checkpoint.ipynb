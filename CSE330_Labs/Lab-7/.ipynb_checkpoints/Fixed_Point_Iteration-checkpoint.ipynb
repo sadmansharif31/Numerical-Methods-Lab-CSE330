{
 "cells": [
  {
   "cell_type": "markdown",
   "metadata": {
    "id": "dQpf-RFGJr8n"
   },
   "source": [
    "Make sure you remove `raise NotImplementedError()` and fill in any place that says `# YOUR CODE HERE`, as well as your `NAME`, `ID`, and `SECTION` below:"
   ]
  },
  {
   "cell_type": "code",
   "execution_count": 1,
   "metadata": {
    "id": "Y2U9_vccJr8t"
   },
   "outputs": [],
   "source": [
    "NAME = \"Sadman Sharif\"\n",
    "ID = \"20101107\"\n",
    "SECTION = \"7\""
   ]
  },
  {
   "cell_type": "markdown",
   "metadata": {
    "id": "VtBT3h0EJr8v"
   },
   "source": [
    "---"
   ]
  },
  {
   "cell_type": "markdown",
   "metadata": {
    "deletable": false,
    "editable": false,
    "id": "UZSMhHrPJr8w",
    "nbgrader": {
     "cell_type": "markdown",
     "checksum": "29cb42a7b7b359ce0df31faaa15748c5",
     "grade": false,
     "grade_id": "cell-3123123123",
     "locked": true,
     "schema_version": 3,
     "solution": false,
     "task": false
    }
   },
   "source": [
    "# Fixed Point Iteration\n",
    "\n",
    "### Fixed point:\n",
    "A number $\\xi$ is called a **fixed point** to function $g(x)$ if $g(\\xi) = \\xi$. Using fixed points are a nice strategy to find roots of an equation. In this method if we are trying to find a root of $f(x) = 0$, we try to write the function in the form, $x = g(x)$. That is,\n",
    "$$\n",
    "f(x) = x - g(x) = 0\n",
    "$$\n",
    "\n",
    "So, if $\\xi$ is a fixed point of $g(x)$ it would also be a root of $f(x)=0$, because,\n",
    "$$\n",
    "f(\\xi) = \\xi - g(\\xi) = \\xi - \\xi = 0\n",
    "$$\n",
    "\n",
    "We can find a suitable $g(x)$ in any number of ways. Not all of them would converge; whereas, some would converge very fast. For example, consider $Eq. 6.1$.\n",
    "\n",
    "\\begin{align}\n",
    "&         &    f(x) &=x^5 + 2.5x^4 - 2x^3 -6x^2 + x + 2 \\\\\n",
    "&\\implies &x - g(x) &=x^5 + 2.5x^4 - 2x^3 -6x^2 + x + 2 \\\\\n",
    "&\\implies &    g(x) &=-x^5 - 2.5x^4 + 2x^3 + 6x^2 - 2 \\tag{6.2}\\\\\n",
    "\\end{align}\n",
    "\n",
    "again, \n",
    "$$\n",
    "f(x) = x^5 + 2.5x^4 - 2x^3 -6x^2 + x + 2 = 0\\\\\n",
    "$$\n",
    "\\begin{align}\n",
    "&\\implies &6x^2 &= x^5 + 2.5x^4 - 2x^3 + x + 2 \\\\\n",
    "&\\implies &x^2  &= \\frac{1}{6}(x^5 + 2.5x^4 - 2x^3 + x + 2)\\\\\n",
    "&\\implies &x    &= \\sqrt{\\frac{1}{6}(x^5 + 2.5x^4 - 2x^3 + x + 2)}\\\\\n",
    "&\\implies &g(x) &= \\sqrt{\\frac{1}{6}(x^5 + 2.5x^4 - 2x^3 + x + 2)}\\tag{6.3}\\\\\n",
    "\\end{align}\n",
    "\n",
    "Similarly,\n",
    "\\begin{align}\n",
    "&         &2.5x^4 &= -x^5 + 2x^3 + 6x^2 - x - 2 \\\\\n",
    "&\\implies &x^4  &= \\frac{1}{2.5}(-x^5 + 2x^3 + 6x^2 - x - 2)\\\\\n",
    "&\\implies &x    &= \\sqrt[\\leftroot{-1}\\uproot{2}\\scriptstyle 4]{\\frac{1}{2.5}(-x^5 + 2x^3 + 6x^2 - x - 2)}\\\\\n",
    "&\\implies &g(x) &= \\sqrt[\\leftroot{-1}\\uproot{2}\\scriptstyle 4]{\\frac{1}{2.5}(-x^5 + 2x^3 + 6x^2 - x - 2)}\\tag{6.4}\\\\\n",
    "\\end{align}\n",
    "\n",
    "### B. Complete the code below\n",
    "For this example we will use a couple of $g(x)$ function to find out which one converges faster."
   ]
  },
  {
   "cell_type": "code",
   "execution_count": 2,
   "metadata": {
    "deletable": false,
    "id": "7aY87ZtEJr8w",
    "nbgrader": {
     "cell_type": "code",
     "checksum": "eea775d5231da9918220a769bc5d5d64",
     "grade": false,
     "grade_id": "cell-123123123",
     "locked": false,
     "schema_version": 3,
     "solution": true,
     "task": false
    }
   },
   "outputs": [],
   "source": [
    "import numpy as np\n",
    "import pandas as pd\n",
    "import matplotlib.pyplot as plt\n",
    "from numpy.polynomial import Polynomial\n",
    "\n",
    "f = Polynomial([2.0, 1.0, -6.0, -2.0, 2.5, 1.0])\n",
    "g1 = Polynomial([-2.0, 0.0, 6.0, 2.0, -2.5, -1.0])\n",
    "\n",
    "def g2(x):\n",
    "    p = Polynomial([2.0, 1.0, 0.0, -2.0, 2.5, 1.0])\n",
    "    return np.sqrt(p(x)/6)\n",
    "\n",
    "def g3(x):\n",
    "    p = Polynomial([-2.0, -1.0, 6.0, 2.0, 0.0, -1.0])\n",
    "    return np.power(p(x)/2.5, 1.0/4.0)\n",
    "\n",
    "a1 = 0.8\n",
    "g1_a = []\n",
    "\n",
    "a2 = 0.8\n",
    "g2_a = []\n",
    "\n",
    "a3 = 0.8\n",
    "g3_a = []\n",
    "\n",
    "# YOUR CODE HERE\n",
    "err=0.1E-6\n",
    "temp=True\n",
    "while temp: \n",
    "    a2=g2(a2)\n",
    "    g2_a.append(a2)\n",
    "    a1=g1(a1)\n",
    "    g1_a.append(a1)\n",
    "    a3=g3(a3)\n",
    "    g3_a.append(a3)\n",
    "    temp=abs(f(a1))>err or abs(f(a3))>err or abs(f(a2))>err "
   ]
  },
  {
   "cell_type": "code",
   "execution_count": 3,
   "metadata": {
    "deletable": false,
    "editable": false,
    "id": "jK5tAm5tJr8x",
    "nbgrader": {
     "cell_type": "code",
     "checksum": "f2e1df01a7312e3018dca255747e4a7e",
     "grade": true,
     "grade_id": "cell-3213123123",
     "locked": true,
     "points": 5,
     "schema_version": 3,
     "solution": false,
     "task": false
    }
   },
   "outputs": [],
   "source": [
    "xs = np.linspace(-2.5, 1.6, 100)\n",
    "ys = f(xs)\n",
    "dictionary = {\n",
    "    'x': xs,\n",
    "    'y': ys\n",
    "}"
   ]
  },
  {
   "cell_type": "code",
   "execution_count": 4,
   "metadata": {
    "deletable": false,
    "editable": false,
    "id": "oip1LLFPJr8y",
    "nbgrader": {
     "cell_type": "code",
     "checksum": "6d9d325340af410ea2c95de0b2bbb1bc",
     "grade": true,
     "grade_id": "cell-48808fbb6733431f",
     "locked": true,
     "points": 15,
     "schema_version": 3,
     "solution": false,
     "task": false
    }
   },
   "outputs": [
    {
     "name": "stderr",
     "output_type": "stream",
     "text": [
      "<ipython-input-2-40240070c2eb>:15: RuntimeWarning: invalid value encountered in power\n",
      "  return np.power(p(x)/2.5, 1.0/4.0)\n"
     ]
    },
    {
     "name": "stdout",
     "output_type": "stream",
     "text": [
      "       g1(x)     g2(x)    g3(x))\n",
      "0   1.512320  0.721997  0.912898\n",
      "1  -2.347605  0.688573  1.044444\n",
      "2   0.562201  0.677301  1.160638\n",
      "3  -0.054108  0.673860  1.241682\n",
      "4  -1.982772  0.672844  1.288278\n",
      "5  -1.995936  0.672547  1.311548\n",
      "6  -1.999770  0.672460  1.322205\n",
      "7  -1.999999  0.672435  1.326870\n",
      "8  -2.000000  0.672427  1.328868\n",
      "9  -2.000000  0.672425  1.329716\n",
      "10 -2.000000  0.672425  1.330075\n",
      "11 -2.000000  0.672424  1.330226\n",
      "12 -2.000000  0.672424  1.330290\n",
      "13 -2.000000  0.672424  1.330317\n",
      "14 -2.000000  0.672424  1.330328\n",
      "15 -2.000000  0.672424  1.330333\n",
      "16 -2.000000  0.672424  1.330335\n",
      "17 -2.000000  0.672424  1.330336\n",
      "18 -2.000000  0.672424  1.330336\n",
      "19 -2.000000  0.672424  1.330336\n",
      "20 -2.000000  0.672424  1.330336\n",
      "21 -2.000000  0.672424  1.330336\n",
      "22 -2.000000  0.672424  1.330336\n",
      "23 -2.000000  0.672424  1.330336\n"
     ]
    },
    {
     "data": {
      "image/png": "[encoded data removed]",
      "text/plain": [
       "<Figure size 432x288 with 1 Axes>"
      ]
     },
     "metadata": {
      "needs_background": "light"
     },
     "output_type": "display_data"
    }
   ],
   "source": [
    "# Test case:\n",
    "plt.axhline(y=0, color='k')\n",
    "plt.plot(xs, f(xs), label='f(x)')\n",
    "plt.plot(xs, g1(xs), label='g1(x)')\n",
    "plt.plot(xs, g2(xs), label='g2(x)')\n",
    "plt.plot(xs, g3(xs), label='g3(x)')\n",
    "plt.legend()\n",
    "\n",
    "if len(g1_a) > 0:\n",
    "    root = np.array([g1_a[len(g1_a)-1], g2_a[len(g2_a)-1], g3_a[len(g3_a)-1]])\n",
    "    plt.plot(root, f(root), 'ro')\n",
    "    \n",
    "print(pd.DataFrame({'g1(x)':g1_a, 'g2(x)':g2_a, 'g3(x))':g3_a,}))\n"
   ]
  },
  {
   "cell_type": "code",
   "execution_count": null,
   "metadata": {},
   "outputs": [],
   "source": []
  }
 ],
 "metadata": {
  "colab": {
   "name": "Copy of Fixed_Point_Iteration.ipynb",
   "provenance": []
  },
  "kernelspec": {
   "display_name": "Python 3",
   "language": "python",
   "name": "python3"
  },
  "language_info": {
   "codemirror_mode": {
    "name": "ipython",
    "version": 3
   },
   "file_extension": ".py",
   "mimetype": "text/x-python",
   "name": "python",
   "nbconvert_exporter": "python",
   "pygments_lexer": "ipython3",
   "version": "3.8.5"
  }
 },
 "nbformat": 4,
 "nbformat_minor": 1
}
