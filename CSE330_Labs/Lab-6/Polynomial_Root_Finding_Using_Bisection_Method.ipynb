{
 "cells": [
  {
   "cell_type": "markdown",
   "metadata": {
    "id": "8pEm4kxLqhN7"
   },
   "source": [
    "Make sure you remove `raise NotImplementedError()` and fill in any place that says `# YOUR CODE HERE`, as well as your `NAME`, `ID`, and `SECTION` below:"
   ]
  },
  {
   "cell_type": "code",
   "execution_count": 64,
   "metadata": {
    "id": "N6FXZz_eqhN9"
   },
   "outputs": [],
   "source": [
    "NAME = \"Sadman Sharif\"\n",
    "ID = \"20101107\"\n",
    "SECTION = \"7\""
   ]
  },
  {
   "cell_type": "markdown",
   "metadata": {
    "id": "D1WB3NXNqhN-"
   },
   "source": [
    "---"
   ]
  },
  {
   "cell_type": "markdown",
   "metadata": {
    "deletable": false,
    "editable": false,
    "id": "8BwuBD__qhN-",
    "nbgrader": {
     "cell_type": "markdown",
     "checksum": "4323c48f5d5276b38804080cab43e0d5",
     "grade": false,
     "grade_id": "title",
     "locked": true,
     "schema_version": 3,
     "solution": false,
     "task": false
    }
   },
   "source": [
    "Polynomial Root Finding Using Bisection Method\n",
    "---\n",
    "\n",
    "### `pandas` Dataframe:\n",
    "Before we start we will know a little about `pandas` dataframe. `pandas` is a python library. Dataframes are classes that are used to store complex data. You can initialize one as a python dictionary. Let's take a look. "
   ]
  },
  {
   "cell_type": "code",
   "execution_count": 65,
   "metadata": {
    "deletable": false,
    "editable": false,
    "id": "F1iPegcMqhN-",
    "nbgrader": {
     "cell_type": "code",
     "checksum": "adc6b91c35993f4ecedcfd53d807a206",
     "grade": false,
     "grade_id": "pd",
     "locked": true,
     "schema_version": 3,
     "solution": false,
     "task": false
    }
   },
   "outputs": [
    {
     "data": {
      "text/html": [
       "<div>\n",
       "<style scoped>\n",
       "    .dataframe tbody tr th:only-of-type {\n",
       "        vertical-align: middle;\n",
       "    }\n",
       "\n",
       "    .dataframe tbody tr th {\n",
       "        vertical-align: top;\n",
       "    }\n",
       "\n",
       "    .dataframe thead th {\n",
       "        text-align: right;\n",
       "    }\n",
       "</style>\n",
       "<table border=\"1\" class=\"dataframe\">\n",
       "  <thead>\n",
       "    <tr style=\"text-align: right;\">\n",
       "      <th></th>\n",
       "      <th>x</th>\n",
       "      <th>y</th>\n",
       "    </tr>\n",
       "  </thead>\n",
       "  <tbody>\n",
       "    <tr>\n",
       "      <th>0</th>\n",
       "      <td>0</td>\n",
       "      <td>1.0</td>\n",
       "    </tr>\n",
       "    <tr>\n",
       "      <th>1</th>\n",
       "      <td>1</td>\n",
       "      <td>5.2</td>\n",
       "    </tr>\n",
       "    <tr>\n",
       "      <th>2</th>\n",
       "      <td>2</td>\n",
       "      <td>3.9</td>\n",
       "    </tr>\n",
       "    <tr>\n",
       "      <th>3</th>\n",
       "      <td>3</td>\n",
       "      <td>8.4</td>\n",
       "    </tr>\n",
       "    <tr>\n",
       "      <th>4</th>\n",
       "      <td>4</td>\n",
       "      <td>14.6</td>\n",
       "    </tr>\n",
       "    <tr>\n",
       "      <th>5</th>\n",
       "      <td>5</td>\n",
       "      <td>12.3</td>\n",
       "    </tr>\n",
       "    <tr>\n",
       "      <th>6</th>\n",
       "      <td>6</td>\n",
       "      <td>8.9</td>\n",
       "    </tr>\n",
       "    <tr>\n",
       "      <th>7</th>\n",
       "      <td>7</td>\n",
       "      <td>10.2</td>\n",
       "    </tr>\n",
       "  </tbody>\n",
       "</table>\n",
       "</div>"
      ],
      "text/plain": [
       "   x     y\n",
       "0  0   1.0\n",
       "1  1   5.2\n",
       "2  2   3.9\n",
       "3  3   8.4\n",
       "4  4  14.6\n",
       "5  5  12.3\n",
       "6  6   8.9\n",
       "7  7  10.2"
      ]
     },
     "execution_count": 65,
     "metadata": {},
     "output_type": "execute_result"
    }
   ],
   "source": [
    "import pandas as pd\n",
    "\n",
    "x = [0, 1, 2, 3, 4, 5, 6, 7]\n",
    "y = [1.0, 5.2, 3.9, 8.4, 14.6, 12.3, 8.9, 10.2]\n",
    "\n",
    "dictionary = {\n",
    "    \"x\": x,\n",
    "    \"y\": y,\n",
    "}\n",
    "df = pd.DataFrame(dictionary)\n",
    "df.head(8)"
   ]
  },
  {
   "cell_type": "markdown",
   "metadata": {
    "deletable": false,
    "editable": false,
    "id": "o1qgr3HYqhN_",
    "nbgrader": {
     "cell_type": "markdown",
     "checksum": "e8de09a00f2f32f8cfbb6b7823ebb992",
     "grade": false,
     "grade_id": "np_into",
     "locked": true,
     "schema_version": 3,
     "solution": false,
     "task": false
    }
   },
   "source": [
    "We can use it to print data in a tabular format. We can even use more numpy arrays with it."
   ]
  },
  {
   "cell_type": "code",
   "execution_count": 66,
   "metadata": {
    "deletable": false,
    "editable": false,
    "id": "gT5eXzSxqhN_",
    "nbgrader": {
     "cell_type": "code",
     "checksum": "b7b72bb172e2e46389ca4f41fd18628d",
     "grade": false,
     "grade_id": "np",
     "locked": true,
     "schema_version": 3,
     "solution": false,
     "task": false
    }
   },
   "outputs": [
    {
     "data": {
      "text/html": [
       "<div>\n",
       "<style scoped>\n",
       "    .dataframe tbody tr th:only-of-type {\n",
       "        vertical-align: middle;\n",
       "    }\n",
       "\n",
       "    .dataframe tbody tr th {\n",
       "        vertical-align: top;\n",
       "    }\n",
       "\n",
       "    .dataframe thead th {\n",
       "        text-align: right;\n",
       "    }\n",
       "</style>\n",
       "<table border=\"1\" class=\"dataframe\">\n",
       "  <thead>\n",
       "    <tr style=\"text-align: right;\">\n",
       "      <th></th>\n",
       "      <th>x</th>\n",
       "      <th>sin(x)</th>\n",
       "    </tr>\n",
       "  </thead>\n",
       "  <tbody>\n",
       "    <tr>\n",
       "      <th>0</th>\n",
       "      <td>0.000000</td>\n",
       "      <td>0.000000</td>\n",
       "    </tr>\n",
       "    <tr>\n",
       "      <th>1</th>\n",
       "      <td>0.112200</td>\n",
       "      <td>0.111964</td>\n",
       "    </tr>\n",
       "    <tr>\n",
       "      <th>2</th>\n",
       "      <td>0.224399</td>\n",
       "      <td>0.222521</td>\n",
       "    </tr>\n",
       "    <tr>\n",
       "      <th>3</th>\n",
       "      <td>0.336599</td>\n",
       "      <td>0.330279</td>\n",
       "    </tr>\n",
       "    <tr>\n",
       "      <th>4</th>\n",
       "      <td>0.448799</td>\n",
       "      <td>0.433884</td>\n",
       "    </tr>\n",
       "    <tr>\n",
       "      <th>5</th>\n",
       "      <td>0.560999</td>\n",
       "      <td>0.532032</td>\n",
       "    </tr>\n",
       "    <tr>\n",
       "      <th>6</th>\n",
       "      <td>0.673198</td>\n",
       "      <td>0.623490</td>\n",
       "    </tr>\n",
       "    <tr>\n",
       "      <th>7</th>\n",
       "      <td>0.785398</td>\n",
       "      <td>0.707107</td>\n",
       "    </tr>\n",
       "    <tr>\n",
       "      <th>8</th>\n",
       "      <td>0.897598</td>\n",
       "      <td>0.781831</td>\n",
       "    </tr>\n",
       "    <tr>\n",
       "      <th>9</th>\n",
       "      <td>1.009798</td>\n",
       "      <td>0.846724</td>\n",
       "    </tr>\n",
       "    <tr>\n",
       "      <th>10</th>\n",
       "      <td>1.121997</td>\n",
       "      <td>0.900969</td>\n",
       "    </tr>\n",
       "    <tr>\n",
       "      <th>11</th>\n",
       "      <td>1.234197</td>\n",
       "      <td>0.943883</td>\n",
       "    </tr>\n",
       "    <tr>\n",
       "      <th>12</th>\n",
       "      <td>1.346397</td>\n",
       "      <td>0.974928</td>\n",
       "    </tr>\n",
       "    <tr>\n",
       "      <th>13</th>\n",
       "      <td>1.458597</td>\n",
       "      <td>0.993712</td>\n",
       "    </tr>\n",
       "    <tr>\n",
       "      <th>14</th>\n",
       "      <td>1.570796</td>\n",
       "      <td>1.000000</td>\n",
       "    </tr>\n",
       "  </tbody>\n",
       "</table>\n",
       "</div>"
      ],
      "text/plain": [
       "           x    sin(x)\n",
       "0   0.000000  0.000000\n",
       "1   0.112200  0.111964\n",
       "2   0.224399  0.222521\n",
       "3   0.336599  0.330279\n",
       "4   0.448799  0.433884\n",
       "5   0.560999  0.532032\n",
       "6   0.673198  0.623490\n",
       "7   0.785398  0.707107\n",
       "8   0.897598  0.781831\n",
       "9   1.009798  0.846724\n",
       "10  1.121997  0.900969\n",
       "11  1.234197  0.943883\n",
       "12  1.346397  0.974928\n",
       "13  1.458597  0.993712\n",
       "14  1.570796  1.000000"
      ]
     },
     "execution_count": 66,
     "metadata": {},
     "output_type": "execute_result"
    }
   ],
   "source": [
    "import numpy as np\n",
    "\n",
    "x = np.linspace(0, np.pi/2, 15)\n",
    "y = np.sin(x)\n",
    "\n",
    "dictionary = {\n",
    "    \"x\": x,\n",
    "    \"sin(x)\": y,\n",
    "}\n",
    "df = pd.DataFrame(dictionary)\n",
    "df.head(15)"
   ]
  },
  {
   "cell_type": "markdown",
   "metadata": {
    "deletable": false,
    "editable": false,
    "id": "2LJFoJfEqhN_",
    "nbgrader": {
     "cell_type": "markdown",
     "checksum": "2e1c412437306d2e9b0078176867e80c",
     "grade": false,
     "grade_id": "root_intro",
     "locked": true,
     "schema_version": 3,
     "solution": false,
     "task": false
    }
   },
   "source": [
    "### Root Finding:\n",
    "Let $f(x)$ be a function of $x$. if for some $x=\\alpha, f(x) = f(\\alpha) = 0$, we say $\\alpha$ is a root of function $x$.\n",
    "\n",
    "Let, \n",
    "$$f(x) = x^5 + 2.5x^4 - 2x^3 -6x^2 + x + 2\\tag{6.1}$$\n",
    "\n",
    "The graph of $f(x)$ looks like this."
   ]
  },
  {
   "cell_type": "code",
   "execution_count": 67,
   "metadata": {
    "deletable": false,
    "editable": false,
    "id": "iiIEjH97qhN_",
    "nbgrader": {
     "cell_type": "code",
     "checksum": "023d32066c1625932a80604228bac0d6",
     "grade": false,
     "grade_id": "example",
     "locked": true,
     "schema_version": 3,
     "solution": false,
     "task": false
    }
   },
   "outputs": [
    {
     "name": "stdout",
     "output_type": "stream",
     "text": [
      "[-2.22027583 -1.61803399 -0.65499178  0.61803399  1.37526761]\n"
     ]
    },
    {
     "data": {
      "image/png": "[encoded data removed]",
      "text/plain": [
       "<Figure size 432x288 with 1 Axes>"
      ]
     },
     "metadata": {
      "needs_background": "light"
     },
     "output_type": "display_data"
    }
   ],
   "source": [
    "from numpy.polynomial import Polynomial\n",
    "import matplotlib.pyplot as plt\n",
    "\n",
    "f = Polynomial([2.0, 0.5, -6.0, -2.0, 2.5, 1.0])\n",
    "x = np.linspace(-2.5, 1.5, 100)\n",
    "y = f(x)\n",
    "dictionary = {\n",
    "    'x': x,\n",
    "    'y': y\n",
    "}\n",
    "plt.axhline(y=0, color='k')\n",
    "plt.plot(x, y)\n",
    "plt.plot(f.roots(), [0.0]*5, 'ro')\n",
    "print(f.roots())"
   ]
  },
  {
   "cell_type": "markdown",
   "metadata": {
    "deletable": false,
    "editable": false,
    "id": "ZDBo-CT3qhOA",
    "nbgrader": {
     "cell_type": "markdown",
     "checksum": "a77a2920b884f394a02829392b097131",
     "grade": false,
     "grade_id": "bisection_intro",
     "locked": true,
     "schema_version": 3,
     "solution": false,
     "task": false
    }
   },
   "source": [
    "Roots are the points where the graph intersects with the $X$-axis.\n",
    "\n",
    "### Bisection\n",
    "\n",
    "One way to find out root's are to use bisection method. Here is the strategy, if $\\alpha$ is a root between and interval $[a, b]$ then graph will cross the $X$-axis at $\\alpha$. So, $sign( f(\\alpha-h) ) = - sign( f(\\alpha+h) )$, for small value of $h$. \n",
    "\n",
    "So, we can work our way up towards the root by taking average of $a$ and $b$, as long as the signs are different.\n",
    "\n",
    "we will start with $a_0$ and $b_0$, such that, $f(a_0) f(b_0) < 0$.\n",
    "Then we iterate as this,\n",
    "\\begin{align}\n",
    "m_k &= \\frac{a_k + b_k}{2} \\\\\n",
    "\\text{if, } f(a_k) f(m_k) < 0, \\text{ then, } a_{k+1} &= a_k \\text{ and } b_{k+1} = m_k\\\\\n",
    "\\text{else, } a_{k+1} &= m_k \\text{ and, } b_{k+1} = b_k\n",
    "\\end{align}\n",
    "\n",
    "We keep iterating until we find the root with sufficient precision. We usually use a formula like this,\n",
    "$$\n",
    "\\frac{|m_{k+1} - m_k|}{|m_{k+1}|} \\leq \\epsilon \\\\  \n",
    "$$\n",
    "Where, $\\epsilon$ is a very small value, like $\\epsilon < 10^{-6}$\n",
    "\n",
    "### Complete the code below\n",
    "Complete the code below to iterate and solve for a root of the following equation, between the interval, $[-0.5, 1.3]$:\n",
    "\\begin{aligned}\n",
    "    f(x) = 2 + x - 6x^2 - 2x^3 + 2.5x^4 + x^5.\n",
    "\\end{aligned}"
   ]
  },
  {
   "cell_type": "code",
   "execution_count": 68,
   "metadata": {
    "deletable": false,
    "id": "vcMvvqN4qhOA",
    "nbgrader": {
     "cell_type": "code",
     "checksum": "250514194ec182b83282f90c837cb559",
     "grade": false,
     "grade_id": "ans",
     "locked": false,
     "schema_version": 3,
     "solution": true,
     "task": false
    }
   },
   "outputs": [],
   "source": [
    "import numpy as np\n",
    "import pandas as pd\n",
    "import matplotlib.pyplot as plt\n",
    "from numpy.polynomial import Polynomial\n",
    "\n",
    "# The polynomial and the range is defined for you\n",
    "f = Polynomial([2.0, 0.5, -6.0, -2.0, 2.5, 1.0])\n",
    "a = -0.5\n",
    "b = 1.3\n",
    "m = (a + b) / 2\n",
    "e = 1e-6\n",
    "\n",
    "root = 0.0    # You need to update this value\n",
    "\n",
    "# Populate the following lists in each iteration\n",
    "list_a = []\n",
    "list_b = []\n",
    "list_m = []\n",
    "list_f = []\n",
    "\n",
    "# YOUR CODE HERE\n",
    "ev=0\n",
    "temp= None\n",
    "\n",
    "\n",
    "while temp!='x':\n",
    "    list_m.append(m)\n",
    "    list_f.append(f(m))\n",
    "    list_a.append(a)\n",
    "    list_b.append(b)\n",
    "    mod=(a+b)/2\n",
    "    \n",
    "    if 0>f(a)*list_f[ev]:\n",
    "        b=mod\n",
    "    elif 0<f(a)*list_f[ev]:\n",
    "        a=mod\n",
    "        \n",
    "    m=(a+b)/2\n",
    "    \n",
    "    if abs(m-list_m[ev])/abs(m)<=e:\n",
    "        root=m\n",
    "        temp='x'\n",
    "    ev=ev+1"
   ]
  },
  {
   "cell_type": "code",
   "execution_count": 69,
   "metadata": {
    "deletable": false,
    "editable": false,
    "id": "n80r3n_4qhOB",
    "nbgrader": {
     "cell_type": "code",
     "checksum": "62d14c64cdf4fb8a8d96afa669625d11",
     "grade": true,
     "grade_id": "test_0",
     "locked": true,
     "points": 10,
     "schema_version": 3,
     "solution": false,
     "task": false
    }
   },
   "outputs": [],
   "source": [
    "xs = np.linspace(-2.5, 1.5, 100)\n",
    "ys = f(xs)"
   ]
  },
  {
   "cell_type": "code",
   "execution_count": 70,
   "metadata": {
    "deletable": false,
    "editable": false,
    "id": "trVJZs-dqhOB",
    "nbgrader": {
     "cell_type": "code",
     "checksum": "d605d35c8e5cb989a20d59e7bf1dca54",
     "grade": true,
     "grade_id": "test",
     "locked": true,
     "points": 10,
     "schema_version": 3,
     "solution": false,
     "task": false
    }
   },
   "outputs": [
    {
     "name": "stdout",
     "output_type": "stream",
     "text": [
      "           a         b         m          f(m)\n",
      "0  -0.500000  1.300000  0.400000  1.186240e+00\n",
      "1   0.400000  1.300000  0.850000 -1.389529e+00\n",
      "2   0.400000  0.850000  0.625000 -4.269409e-02\n",
      "3   0.400000  0.625000  0.512500  6.189171e-01\n",
      "4   0.512500  0.625000  0.568750  2.966661e-01\n",
      "5   0.568750  0.625000  0.596875  1.286523e-01\n",
      "6   0.596875  0.625000  0.610938  4.333223e-02\n",
      "7   0.610938  0.625000  0.617969  3.991260e-04\n",
      "8   0.617969  0.625000  0.621484 -2.112851e-02\n",
      "9   0.617969  0.621484  0.619727 -1.035982e-02\n",
      "10  0.617969  0.619727  0.618848 -4.979112e-03\n",
      "11  0.617969  0.618848  0.618408 -2.289682e-03\n",
      "12  0.617969  0.618408  0.618188 -9.452003e-04\n",
      "13  0.617969  0.618188  0.618079 -2.730176e-04\n",
      "14  0.617969  0.618079  0.618024  6.305907e-05\n",
      "15  0.618024  0.618079  0.618051 -1.049781e-04\n",
      "16  0.618024  0.618051  0.618037 -2.095919e-05\n",
      "17  0.618024  0.618037  0.618031  2.105002e-05\n",
      "18  0.618031  0.618037  0.618034  4.543651e-08\n",
      "19  0.618034  0.618037  0.618036 -1.045687e-05\n",
      "20  0.618034  0.618036  0.618035 -5.205715e-06\n"
     ]
    },
    {
     "data": {
      "image/png": "[encoded data removed]",
      "text/plain": [
       "<Figure size 432x288 with 1 Axes>"
      ]
     },
     "metadata": {
      "needs_background": "light"
     },
     "output_type": "display_data"
    }
   ],
   "source": [
    "plt.axhline(y=0, color='k')\n",
    "plt.plot(xs, ys)\n",
    "plt.plot(root, f(root), 'ro')\n",
    "\n",
    "print(pd.DataFrame({'a':list_a, 'b':list_b, 'm':list_m, 'f(m)':list_f}))\n",
    "\n",
    "assert \"{:.3f}\".format(root) == \"0.618\""
   ]
  }
 ],
 "metadata": {
  "colab": {
   "name": "Copy of Polynomial_Root_Finding_Using_Bisection_Method.ipynb",
   "provenance": []
  },
  "kernelspec": {
   "display_name": "Python 3",
   "language": "python",
   "name": "python3"
  },
  "language_info": {
   "codemirror_mode": {
    "name": "ipython",
    "version": 3
   },
   "file_extension": ".py",
   "mimetype": "text/x-python",
   "name": "python",
   "nbconvert_exporter": "python",
   "pygments_lexer": "ipython3",
   "version": "3.8.5"
  }
 },
 "nbformat": 4,
 "nbformat_minor": 1
}
